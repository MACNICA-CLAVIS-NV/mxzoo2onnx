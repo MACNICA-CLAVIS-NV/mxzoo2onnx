{
 "cells": [
  {
   "cell_type": "code",
   "execution_count": 9,
   "id": "0c6f5218-b7f0-473b-b983-42d1975c6315",
   "metadata": {},
   "outputs": [
    {
     "data": {
      "application/vnd.jupyter.widget-view+json": {
       "model_id": "d290d22da1974d7da662059847f9b284",
       "version_major": 2,
       "version_minor": 0
      },
      "text/html": [
       "\n",
       "            <div style=\"display: inline-block;\">\n",
       "                <div class=\"jupyter-widgets widget-label\" style=\"text-align: center;\">\n",
       "                    Figure\n",
       "                </div>\n",
       "                <img src='data:image/png;base64,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' width=600.0/>\n",
       "            </div>\n",
       "        "
      ],
      "text/plain": [
       "Canvas(toolbar=Toolbar(toolitems=[('Home', 'Reset original view', 'home', 'home'), ('Back', 'Back to previous …"
      ]
     },
     "metadata": {},
     "output_type": "display_data"
    }
   ],
   "source": [
    "%matplotlib widget\n",
    "import numpy as np\n",
    "import matplotlib.pyplot as plt\n",
    "from ipywidgets import interact,Dropdown\n",
    "import seaborn as sns\n",
    "sns.set(style=\"ticks\")\n",
    "\n",
    "#make data\n",
    "d_list=[]\n",
    "for i in np.logspace(3,5,3).astype(int):\n",
    "    d = np.random.normal(0,1,i)\n",
    "    d_list.append(d)\n",
    "d_hist_list=[]\n",
    "d_bins_list=[]\n",
    "\n",
    "for i in range(3):\n",
    "    h,b = np.histogram(d_list[i], bins=100)\n",
    "    d_hist_list.append(h)\n",
    "    d_bins_list.append(b)\n",
    "    \n",
    "fig, ax = plt.subplots(figsize=(6,4))\n",
    "dd = Dropdown(\n",
    "    options=[('data1', 0), ('data2', 1), ('data3', 2)],\n",
    "    value=0,\n",
    "    description='Select data:')\n",
    "@interact(dd=dd)\n",
    "def f(dd):    \n",
    "    ax.cla()\n",
    "    width=d_bins_list[dd][1]-d_bins_list[dd][0]\n",
    "    ax.bar(d_bins_list[dd][1:],d_hist_list[dd],width=width,color='C2')"
   ]
  },
  {
   "cell_type": "code",
   "execution_count": 2,
   "id": "e881d71f-83b9-4179-a13e-97b6783d18cd",
   "metadata": {},
   "outputs": [
    {
     "name": "stdout",
     "output_type": "stream",
     "text": [
      "Collecting matplotlib\n",
      "  Downloading matplotlib-3.4.3-cp38-cp38-manylinux1_x86_64.whl (10.3 MB)\n",
      "\u001b[K     |████████████████████████████████| 10.3 MB 12.8 MB/s eta 0:00:01\n",
      "\u001b[?25hCollecting cycler>=0.10\n",
      "  Downloading cycler-0.11.0-py3-none-any.whl (6.4 kB)\n",
      "Collecting kiwisolver>=1.0.1\n",
      "  Downloading kiwisolver-1.3.2-cp38-cp38-manylinux_2_5_x86_64.manylinux1_x86_64.whl (1.2 MB)\n",
      "\u001b[K     |████████████████████████████████| 1.2 MB 9.0 MB/s eta 0:00:01\n",
      "\u001b[?25hRequirement already satisfied: pyparsing>=2.2.1 in /usr/local/lib/python3.8/dist-packages (from matplotlib) (2.4.7)\n",
      "Requirement already satisfied: numpy>=1.16 in /usr/local/lib/python3.8/dist-packages (from matplotlib) (1.21.4)\n",
      "Requirement already satisfied: python-dateutil>=2.7 in /usr/local/lib/python3.8/dist-packages (from matplotlib) (2.8.2)\n",
      "Collecting pillow>=6.2.0\n",
      "  Downloading Pillow-8.4.0-cp38-cp38-manylinux_2_17_x86_64.manylinux2014_x86_64.whl (3.1 MB)\n",
      "\u001b[K     |████████████████████████████████| 3.1 MB 8.4 MB/s eta 0:00:01\n",
      "\u001b[?25hRequirement already satisfied: six>=1.5 in /usr/local/lib/python3.8/dist-packages (from python-dateutil>=2.7->matplotlib) (1.16.0)\n",
      "Installing collected packages: cycler, kiwisolver, pillow, matplotlib\n",
      "Successfully installed cycler-0.11.0 kiwisolver-1.3.2 matplotlib-3.4.3 pillow-8.4.0\n"
     ]
    }
   ],
   "source": [
    "!pip3 install matplotlib"
   ]
  },
  {
   "cell_type": "code",
   "execution_count": 5,
   "id": "cabfba44-8c4f-4eac-9ecd-769c39cbc8b1",
   "metadata": {},
   "outputs": [
    {
     "name": "stdout",
     "output_type": "stream",
     "text": [
      "Collecting ipympl\n",
      "  Downloading ipympl-0.8.2-py2.py3-none-any.whl (84 kB)\n",
      "\u001b[K     |████████████████████████████████| 84 kB 2.7 MB/s eta 0:00:011\n",
      "\u001b[?25hRequirement already satisfied: matplotlib>=2.0.0 in /usr/local/lib/python3.8/dist-packages (from ipympl) (3.4.3)\n",
      "Requirement already satisfied: ipykernel>=4.7 in /usr/local/lib/python3.8/dist-packages (from ipympl) (6.5.0)\n",
      "Requirement already satisfied: ipywidgets>=7.6.0 in /usr/local/lib/python3.8/dist-packages (from ipympl) (7.6.5)\n",
      "Requirement already satisfied: pyparsing>=2.2.1 in /usr/local/lib/python3.8/dist-packages (from matplotlib>=2.0.0->ipympl) (2.4.7)\n",
      "Requirement already satisfied: numpy>=1.16 in /usr/local/lib/python3.8/dist-packages (from matplotlib>=2.0.0->ipympl) (1.21.4)\n",
      "Requirement already satisfied: kiwisolver>=1.0.1 in /usr/local/lib/python3.8/dist-packages (from matplotlib>=2.0.0->ipympl) (1.3.2)\n",
      "Requirement already satisfied: python-dateutil>=2.7 in /usr/local/lib/python3.8/dist-packages (from matplotlib>=2.0.0->ipympl) (2.8.2)\n",
      "Requirement already satisfied: pillow>=6.2.0 in /usr/local/lib/python3.8/dist-packages (from matplotlib>=2.0.0->ipympl) (8.4.0)\n",
      "Requirement already satisfied: cycler>=0.10 in /usr/local/lib/python3.8/dist-packages (from matplotlib>=2.0.0->ipympl) (0.11.0)\n",
      "Requirement already satisfied: jupyter-client<8.0 in /usr/local/lib/python3.8/dist-packages (from ipykernel>=4.7->ipympl) (7.0.6)\n",
      "Requirement already satisfied: debugpy<2.0,>=1.0.0 in /usr/local/lib/python3.8/dist-packages (from ipykernel>=4.7->ipympl) (1.5.1)\n",
      "Requirement already satisfied: matplotlib-inline<0.2.0,>=0.1.0 in /usr/local/lib/python3.8/dist-packages (from ipykernel>=4.7->ipympl) (0.1.3)\n",
      "Requirement already satisfied: ipython<8.0,>=7.23.1 in /usr/local/lib/python3.8/dist-packages (from ipykernel>=4.7->ipympl) (7.29.0)\n",
      "Requirement already satisfied: tornado<7.0,>=4.2 in /usr/local/lib/python3.8/dist-packages (from ipykernel>=4.7->ipympl) (6.1)\n",
      "Requirement already satisfied: traitlets<6.0,>=5.1.0 in /usr/local/lib/python3.8/dist-packages (from ipykernel>=4.7->ipympl) (5.1.1)\n",
      "Requirement already satisfied: nbformat>=4.2.0 in /usr/local/lib/python3.8/dist-packages (from ipywidgets>=7.6.0->ipympl) (5.1.3)\n",
      "Requirement already satisfied: ipython-genutils~=0.2.0 in /usr/local/lib/python3.8/dist-packages (from ipywidgets>=7.6.0->ipympl) (0.2.0)\n",
      "Requirement already satisfied: widgetsnbextension~=3.5.0 in /usr/local/lib/python3.8/dist-packages (from ipywidgets>=7.6.0->ipympl) (3.5.2)\n",
      "Requirement already satisfied: jupyterlab-widgets>=1.0.0; python_version >= \"3.6\" in /usr/local/lib/python3.8/dist-packages (from ipywidgets>=7.6.0->ipympl) (1.0.2)\n",
      "Requirement already satisfied: six>=1.5 in /usr/local/lib/python3.8/dist-packages (from python-dateutil>=2.7->matplotlib>=2.0.0->ipympl) (1.16.0)\n",
      "Requirement already satisfied: pyzmq>=13 in /usr/local/lib/python3.8/dist-packages (from jupyter-client<8.0->ipykernel>=4.7->ipympl) (22.3.0)\n",
      "Requirement already satisfied: jupyter-core>=4.6.0 in /usr/local/lib/python3.8/dist-packages (from jupyter-client<8.0->ipykernel>=4.7->ipympl) (4.9.1)\n",
      "Requirement already satisfied: entrypoints in /usr/local/lib/python3.8/dist-packages (from jupyter-client<8.0->ipykernel>=4.7->ipympl) (0.3)\n",
      "Requirement already satisfied: nest-asyncio>=1.5 in /usr/local/lib/python3.8/dist-packages (from jupyter-client<8.0->ipykernel>=4.7->ipympl) (1.5.1)\n",
      "Requirement already satisfied: pickleshare in /usr/local/lib/python3.8/dist-packages (from ipython<8.0,>=7.23.1->ipykernel>=4.7->ipympl) (0.7.5)\n",
      "Requirement already satisfied: jedi>=0.16 in /usr/local/lib/python3.8/dist-packages (from ipython<8.0,>=7.23.1->ipykernel>=4.7->ipympl) (0.18.0)\n",
      "Requirement already satisfied: setuptools>=18.5 in /usr/lib/python3/dist-packages (from ipython<8.0,>=7.23.1->ipykernel>=4.7->ipympl) (45.2.0)\n",
      "Requirement already satisfied: prompt-toolkit!=3.0.0,!=3.0.1,<3.1.0,>=2.0.0 in /usr/local/lib/python3.8/dist-packages (from ipython<8.0,>=7.23.1->ipykernel>=4.7->ipympl) (3.0.22)\n",
      "Requirement already satisfied: backcall in /usr/local/lib/python3.8/dist-packages (from ipython<8.0,>=7.23.1->ipykernel>=4.7->ipympl) (0.2.0)\n",
      "Requirement already satisfied: pygments in /usr/local/lib/python3.8/dist-packages (from ipython<8.0,>=7.23.1->ipykernel>=4.7->ipympl) (2.10.0)\n",
      "Requirement already satisfied: pexpect>4.3; sys_platform != \"win32\" in /usr/local/lib/python3.8/dist-packages (from ipython<8.0,>=7.23.1->ipykernel>=4.7->ipympl) (4.8.0)\n",
      "Requirement already satisfied: decorator in /usr/local/lib/python3.8/dist-packages (from ipython<8.0,>=7.23.1->ipykernel>=4.7->ipympl) (5.1.0)\n",
      "Requirement already satisfied: jsonschema!=2.5.0,>=2.4 in /usr/local/lib/python3.8/dist-packages (from nbformat>=4.2.0->ipywidgets>=7.6.0->ipympl) (4.2.1)\n",
      "Requirement already satisfied: notebook>=4.4.1 in /usr/local/lib/python3.8/dist-packages (from widgetsnbextension~=3.5.0->ipywidgets>=7.6.0->ipympl) (6.4.5)\n",
      "Requirement already satisfied: parso<0.9.0,>=0.8.0 in /usr/local/lib/python3.8/dist-packages (from jedi>=0.16->ipython<8.0,>=7.23.1->ipykernel>=4.7->ipympl) (0.8.2)\n",
      "Requirement already satisfied: wcwidth in /usr/local/lib/python3.8/dist-packages (from prompt-toolkit!=3.0.0,!=3.0.1,<3.1.0,>=2.0.0->ipython<8.0,>=7.23.1->ipykernel>=4.7->ipympl) (0.2.5)\n",
      "Requirement already satisfied: ptyprocess>=0.5 in /usr/local/lib/python3.8/dist-packages (from pexpect>4.3; sys_platform != \"win32\"->ipython<8.0,>=7.23.1->ipykernel>=4.7->ipympl) (0.7.0)\n",
      "Requirement already satisfied: importlib-resources>=1.4.0; python_version < \"3.9\" in /usr/local/lib/python3.8/dist-packages (from jsonschema!=2.5.0,>=2.4->nbformat>=4.2.0->ipywidgets>=7.6.0->ipympl) (5.4.0)\n",
      "Requirement already satisfied: attrs>=17.4.0 in /usr/local/lib/python3.8/dist-packages (from jsonschema!=2.5.0,>=2.4->nbformat>=4.2.0->ipywidgets>=7.6.0->ipympl) (21.2.0)\n",
      "Requirement already satisfied: pyrsistent!=0.17.0,!=0.17.1,!=0.17.2,>=0.14.0 in /usr/local/lib/python3.8/dist-packages (from jsonschema!=2.5.0,>=2.4->nbformat>=4.2.0->ipywidgets>=7.6.0->ipympl) (0.18.0)\n",
      "Requirement already satisfied: terminado>=0.8.3 in /usr/local/lib/python3.8/dist-packages (from notebook>=4.4.1->widgetsnbextension~=3.5.0->ipywidgets>=7.6.0->ipympl) (0.12.1)\n",
      "Requirement already satisfied: argon2-cffi in /usr/local/lib/python3.8/dist-packages (from notebook>=4.4.1->widgetsnbextension~=3.5.0->ipywidgets>=7.6.0->ipympl) (21.1.0)\n",
      "Requirement already satisfied: Send2Trash>=1.5.0 in /usr/local/lib/python3.8/dist-packages (from notebook>=4.4.1->widgetsnbextension~=3.5.0->ipywidgets>=7.6.0->ipympl) (1.8.0)\n",
      "Requirement already satisfied: jinja2 in /usr/local/lib/python3.8/dist-packages (from notebook>=4.4.1->widgetsnbextension~=3.5.0->ipywidgets>=7.6.0->ipympl) (3.0.3)\n",
      "Requirement already satisfied: prometheus-client in /usr/local/lib/python3.8/dist-packages (from notebook>=4.4.1->widgetsnbextension~=3.5.0->ipywidgets>=7.6.0->ipympl) (0.12.0)\n",
      "Requirement already satisfied: nbconvert in /usr/local/lib/python3.8/dist-packages (from notebook>=4.4.1->widgetsnbextension~=3.5.0->ipywidgets>=7.6.0->ipympl) (6.3.0)\n",
      "Requirement already satisfied: zipp>=3.1.0; python_version < \"3.10\" in /usr/local/lib/python3.8/dist-packages (from importlib-resources>=1.4.0; python_version < \"3.9\"->jsonschema!=2.5.0,>=2.4->nbformat>=4.2.0->ipywidgets>=7.6.0->ipympl) (3.6.0)\n",
      "Requirement already satisfied: cffi>=1.0.0 in /usr/local/lib/python3.8/dist-packages (from argon2-cffi->notebook>=4.4.1->widgetsnbextension~=3.5.0->ipywidgets>=7.6.0->ipympl) (1.15.0)\n",
      "Requirement already satisfied: MarkupSafe>=2.0 in /usr/local/lib/python3.8/dist-packages (from jinja2->notebook>=4.4.1->widgetsnbextension~=3.5.0->ipywidgets>=7.6.0->ipympl) (2.0.1)\n",
      "Requirement already satisfied: jupyterlab-pygments in /usr/local/lib/python3.8/dist-packages (from nbconvert->notebook>=4.4.1->widgetsnbextension~=3.5.0->ipywidgets>=7.6.0->ipympl) (0.1.2)\n",
      "Requirement already satisfied: nbclient<0.6.0,>=0.5.0 in /usr/local/lib/python3.8/dist-packages (from nbconvert->notebook>=4.4.1->widgetsnbextension~=3.5.0->ipywidgets>=7.6.0->ipympl) (0.5.8)\n",
      "Requirement already satisfied: mistune<2,>=0.8.1 in /usr/local/lib/python3.8/dist-packages (from nbconvert->notebook>=4.4.1->widgetsnbextension~=3.5.0->ipywidgets>=7.6.0->ipympl) (0.8.4)\n",
      "Requirement already satisfied: bleach in /usr/local/lib/python3.8/dist-packages (from nbconvert->notebook>=4.4.1->widgetsnbextension~=3.5.0->ipywidgets>=7.6.0->ipympl) (4.1.0)\n",
      "Requirement already satisfied: testpath in /usr/local/lib/python3.8/dist-packages (from nbconvert->notebook>=4.4.1->widgetsnbextension~=3.5.0->ipywidgets>=7.6.0->ipympl) (0.5.0)\n",
      "Requirement already satisfied: defusedxml in /usr/local/lib/python3.8/dist-packages (from nbconvert->notebook>=4.4.1->widgetsnbextension~=3.5.0->ipywidgets>=7.6.0->ipympl) (0.7.1)\n",
      "Requirement already satisfied: pandocfilters>=1.4.1 in /usr/local/lib/python3.8/dist-packages (from nbconvert->notebook>=4.4.1->widgetsnbextension~=3.5.0->ipywidgets>=7.6.0->ipympl) (1.5.0)\n",
      "Requirement already satisfied: pycparser in /usr/local/lib/python3.8/dist-packages (from cffi>=1.0.0->argon2-cffi->notebook>=4.4.1->widgetsnbextension~=3.5.0->ipywidgets>=7.6.0->ipympl) (2.21)\n",
      "Requirement already satisfied: packaging in /usr/local/lib/python3.8/dist-packages (from bleach->nbconvert->notebook>=4.4.1->widgetsnbextension~=3.5.0->ipywidgets>=7.6.0->ipympl) (21.2)\n",
      "Requirement already satisfied: webencodings in /usr/local/lib/python3.8/dist-packages (from bleach->nbconvert->notebook>=4.4.1->widgetsnbextension~=3.5.0->ipywidgets>=7.6.0->ipympl) (0.5.1)\n",
      "Installing collected packages: ipympl\n",
      "Successfully installed ipympl-0.8.2\n"
     ]
    }
   ],
   "source": [
    "!pip3 install ipympl"
   ]
  },
  {
   "cell_type": "code",
   "execution_count": 8,
   "id": "4f06428d-e842-4921-bf8e-f433094b8c32",
   "metadata": {},
   "outputs": [
    {
     "name": "stdout",
     "output_type": "stream",
     "text": [
      "Collecting seaborn\n",
      "  Downloading seaborn-0.11.2-py3-none-any.whl (292 kB)\n",
      "\u001b[K     |████████████████████████████████| 292 kB 7.4 MB/s eta 0:00:01\n",
      "\u001b[?25hRequirement already satisfied: numpy>=1.15 in /usr/local/lib/python3.8/dist-packages (from seaborn) (1.21.4)\n",
      "Collecting pandas>=0.23\n",
      "  Downloading pandas-1.3.4-cp38-cp38-manylinux_2_17_x86_64.manylinux2014_x86_64.whl (11.5 MB)\n",
      "\u001b[K     |████████████████████████████████| 11.5 MB 8.1 MB/s eta 0:00:01\n",
      "\u001b[?25hRequirement already satisfied: matplotlib>=2.2 in /usr/local/lib/python3.8/dist-packages (from seaborn) (3.4.3)\n",
      "Collecting scipy>=1.0\n",
      "  Downloading scipy-1.7.2-cp38-cp38-manylinux_2_17_x86_64.manylinux2014_x86_64.whl (39.3 MB)\n",
      "\u001b[K     |████████████████████████████████| 39.3 MB 7.0 MB/s eta 0:00:013\n",
      "\u001b[?25hRequirement already satisfied: python-dateutil>=2.7.3 in /usr/local/lib/python3.8/dist-packages (from pandas>=0.23->seaborn) (2.8.2)\n",
      "Requirement already satisfied: pytz>=2017.3 in /usr/local/lib/python3.8/dist-packages (from pandas>=0.23->seaborn) (2021.3)\n",
      "Requirement already satisfied: kiwisolver>=1.0.1 in /usr/local/lib/python3.8/dist-packages (from matplotlib>=2.2->seaborn) (1.3.2)\n",
      "Requirement already satisfied: cycler>=0.10 in /usr/local/lib/python3.8/dist-packages (from matplotlib>=2.2->seaborn) (0.11.0)\n",
      "Requirement already satisfied: pyparsing>=2.2.1 in /usr/local/lib/python3.8/dist-packages (from matplotlib>=2.2->seaborn) (2.4.7)\n",
      "Requirement already satisfied: pillow>=6.2.0 in /usr/local/lib/python3.8/dist-packages (from matplotlib>=2.2->seaborn) (8.4.0)\n",
      "Requirement already satisfied: six>=1.5 in /usr/local/lib/python3.8/dist-packages (from python-dateutil>=2.7.3->pandas>=0.23->seaborn) (1.16.0)\n",
      "Installing collected packages: pandas, scipy, seaborn\n",
      "Successfully installed pandas-1.3.4 scipy-1.7.2 seaborn-0.11.2\n"
     ]
    }
   ],
   "source": [
    "!pip3 install seaborn"
   ]
  },
  {
   "cell_type": "code",
   "execution_count": 10,
   "id": "feb83562-a4b6-48c8-bb87-4614cc8c1f26",
   "metadata": {},
   "outputs": [],
   "source": [
    "import ipywidgets as widgets"
   ]
  },
  {
   "cell_type": "code",
   "execution_count": 11,
   "id": "195ee58a-8538-43ee-8801-2c3371f00924",
   "metadata": {},
   "outputs": [],
   "source": [
    "button = widgets.Button(description='Click me')"
   ]
  },
  {
   "cell_type": "code",
   "execution_count": 12,
   "id": "8712a3de-c330-48c5-b571-7fcabf402bb7",
   "metadata": {},
   "outputs": [
    {
     "data": {
      "application/vnd.jupyter.widget-view+json": {
       "model_id": "b16c811729084797869ce1afb870b7ae",
       "version_major": 2,
       "version_minor": 0
      },
      "text/plain": [
       "Button(description='Click me', style=ButtonStyle())"
      ]
     },
     "metadata": {},
     "output_type": "display_data"
    }
   ],
   "source": [
    "button"
   ]
  },
  {
   "cell_type": "code",
   "execution_count": 13,
   "id": "7ef2a834-c814-4623-886f-e5acec7d73bc",
   "metadata": {},
   "outputs": [
    {
     "data": {
      "application/vnd.jupyter.widget-view+json": {
       "model_id": "b16c811729084797869ce1afb870b7ae",
       "version_major": 2,
       "version_minor": 0
      },
      "text/plain": [
       "Button(description='Click me', style=ButtonStyle())"
      ]
     },
     "metadata": {},
     "output_type": "display_data"
    }
   ],
   "source": [
    "from IPython.display import display\n",
    "display(button)"
   ]
  },
  {
   "cell_type": "code",
   "execution_count": null,
   "id": "7e1c15cb-3609-46fb-9fbc-e9d627591fe7",
   "metadata": {},
   "outputs": [],
   "source": []
  }
 ],
 "metadata": {
  "kernelspec": {
   "display_name": "Python 3 (ipykernel)",
   "language": "python",
   "name": "python3"
  },
  "language_info": {
   "codemirror_mode": {
    "name": "ipython",
    "version": 3
   },
   "file_extension": ".py",
   "mimetype": "text/x-python",
   "name": "python",
   "nbconvert_exporter": "python",
   "pygments_lexer": "ipython3",
   "version": "3.8.10"
  }
 },
 "nbformat": 4,
 "nbformat_minor": 5
}
